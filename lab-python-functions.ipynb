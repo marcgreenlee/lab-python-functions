{
 "cells": [
  {
   "cell_type": "markdown",
   "id": "25d7736c-ba17-4aff-b6bb-66eba20fbf4e",
   "metadata": {},
   "source": [
    "# Lab | Functions"
   ]
  },
  {
   "cell_type": "markdown",
   "id": "0c581062-8967-4d93-b06e-62833222f930",
   "metadata": {
    "tags": []
   },
   "source": [
    "## Exercise: Managing Customer Orders with Functions\n",
    "\n",
    "In the previous exercise, you improved the code for managing customer orders by using loops and flow control. Now, let's take it a step further and refactor the code by introducing functions.\n",
    "\n",
    "Follow the steps below to complete the exercise:\n",
    "\n",
    "1. Define a function named `initialize_inventory` that takes `products` as a parameter. Inside the function, implement the code for initializing the inventory dictionary using a loop and user input.\n",
    "\n",
    "2. Define a function named `get_customer_orders` that takes no parameters. Inside the function, implement the code for prompting the user to enter the product names using a loop. The function should return the `customer_orders` set.\n",
    "\n",
    "3. Define a function named `update_inventory` that takes `customer_orders` and `inventory` as parameters. Inside the function, implement the code for updating the inventory dictionary based on the customer orders.\n",
    "\n",
    "4. Define a function named `calculate_order_statistics` that takes `customer_orders` and `products` as parameters. Inside the function, implement the code for calculating the order statistics (total products ordered, and percentage of unique products ordered). The function should return these values.\n",
    "\n",
    "5. Define a function named `print_order_statistics` that takes `order_statistics` as a parameter. Inside the function, implement the code for printing the order statistics.\n",
    "\n",
    "6. Define a function named `print_updated_inventory` that takes `inventory` as a parameter. Inside the function, implement the code for printing the updated inventory.\n",
    "\n",
    "7. Call the functions in the appropriate sequence to execute the program and manage customer orders.\n",
    "\n",
    "Hints for functions:\n",
    "\n",
    "- Consider the input parameters required for each function and their return values.\n",
    "- Utilize function parameters and return values to transfer data between functions.\n",
    "- Test your functions individually to ensure they work correctly.\n",
    "\n",
    "\n"
   ]
  },
  {
   "cell_type": "code",
   "execution_count": 3,
   "id": "baead8f6-aff1-4a9a-a59a-f439a7566efd",
   "metadata": {},
   "outputs": [
    {
     "name": "stdin",
     "output_type": "stream",
     "text": [
      "please input the quantity of t-shirt available:  2\n",
      "please input the quantity of mug available:  2\n",
      "please input the quantity of hat available:  2\n",
      "please input the quantity of book available:  2\n",
      "please input the quantity of keychain available:  2\n"
     ]
    },
    {
     "data": {
      "text/plain": [
       "{'t-shirt': 2, 'mug': 2, 'hat': 2, 'book': 2, 'keychain': 2}"
      ]
     },
     "execution_count": 3,
     "metadata": {},
     "output_type": "execute_result"
    }
   ],
   "source": [
    "products = [\"t-shirt\", \"mug\", \"hat\", \"book\", \"keychain\"]\n",
    "inventory = {}\n",
    "def initialize_inventory(products):\n",
    "    for product in products:\n",
    "        quantity = int(input(f\"please input the quantity of {product} available: \"))\n",
    "        inventory [product] = quantity\n",
    "    return(inventory)\n",
    "\n",
    "initialize_inventory(products)\n",
    "\n",
    "    "
   ]
  },
  {
   "cell_type": "code",
   "execution_count": 4,
   "id": "3fa7d824-ac61-4035-8f43-38b4da5c51c3",
   "metadata": {},
   "outputs": [
    {
     "name": "stdin",
     "output_type": "stream",
     "text": [
      "Please enter the product a customer wants to order:  book\n",
      "do you want to add a new product? mug\n"
     ]
    },
    {
     "name": "stdout",
     "output_type": "stream",
     "text": [
      "please enter a valid response: yes or no\n"
     ]
    },
    {
     "name": "stdin",
     "output_type": "stream",
     "text": [
      "do you want to add a new product? yes\n",
      "Please enter the product a customer wants to order:  mug\n",
      "do you want to add a new product? no\n"
     ]
    },
    {
     "name": "stdout",
     "output_type": "stream",
     "text": [
      "the customer order list is {'book', 'mug'}\n"
     ]
    },
    {
     "data": {
      "text/plain": [
       "{'book', 'mug'}"
      ]
     },
     "execution_count": 4,
     "metadata": {},
     "output_type": "execute_result"
    }
   ],
   "source": [
    "customer_orders = set()\n",
    "\n",
    "def get_customer_orders():\n",
    "    new_order = input(\"Please enter the product a customer wants to order: \")\n",
    "    customer_orders.add(new_order)\n",
    "\n",
    "    while True:\n",
    "        new_product = input(\"do you want to add a new product?\")\n",
    "    \n",
    "        if new_product == \"yes\":\n",
    "            new_order = input(\"Please enter the product a customer wants to order: \")\n",
    "            customer_orders.add(new_order)\n",
    "        \n",
    "        elif new_product == \"no\":\n",
    "            print(\"the customer order list is\", customer_orders)\n",
    "            break \n",
    "\n",
    "        else: \n",
    "            print(\"please enter a valid response: yes or no\")\n",
    "\n",
    "    return customer_orders\n",
    "\n",
    "get_customer_orders()"
   ]
  },
  {
   "cell_type": "code",
   "execution_count": 5,
   "id": "3530085b-4189-4c5c-ba7c-62bc3b6e1450",
   "metadata": {},
   "outputs": [
    {
     "data": {
      "text/plain": [
       "{'t-shirt': 2, 'mug': 1, 'hat': 2, 'book': 1, 'keychain': 2}"
      ]
     },
     "execution_count": 5,
     "metadata": {},
     "output_type": "execute_result"
    }
   ],
   "source": [
    "def update_inventory(customer_orders, inventory):\n",
    "\n",
    "    for product in customer_orders:\n",
    "        if product in inventory and inventory[product] > 0:\n",
    "            inventory [product] -= 1\n",
    "\n",
    "    return inventory\n",
    "\n",
    "update_inventory(customer_orders, inventory)\n",
    "\n"
   ]
  },
  {
   "cell_type": "code",
   "execution_count": 6,
   "id": "069d679d-e8a6-47f6-94de-1162be153f15",
   "metadata": {},
   "outputs": [],
   "source": [
    "#def calculate_order_statistics (customer_orders, products):\n",
    "    \n",
    "  #  total_available_products = sum(inventory.values())\n",
    "  #  total_products_ordered = len(customer_orders)\n",
    "   # percentage_ordered = (total_products_ordered/total_available_products)*100\n",
    "    \n",
    "    #print(\"Order statistics: \", \"total products ordered: \", total_products_ordered,\" \", \"percentage of products ordered: \", percentage_ordered, \"%\")\n",
    "    \n",
    "  #  order_statistics = {'total products ordered': total_products_ordered, 'percentage of products ordered': round(percentage_ordered,2)}\n",
    "   # return order_statistics\n",
    "    \n",
    "#calculate_order_statistics(customer_orders, products)\n",
    "    "
   ]
  },
  {
   "cell_type": "code",
   "execution_count": 7,
   "id": "a00e55bc-7158-4583-a75d-34d0c5daaa2e",
   "metadata": {},
   "outputs": [
    {
     "data": {
      "text/plain": [
       "{'total products ordered': 2, 'percentage of products ordered': 25.0}"
      ]
     },
     "execution_count": 7,
     "metadata": {},
     "output_type": "execute_result"
    }
   ],
   "source": [
    "##repeated cell with variables outside the function (global variables)\n",
    "\n",
    "total_available_products = sum(inventory.values())\n",
    "total_products_ordered = len(customer_orders)\n",
    "percentage_ordered = (total_products_ordered/total_available_products)*100\n",
    "    \n",
    "    #print(\"Order statistics: \", \"total products ordered: \", total_products_ordered,\" \", \"percentage of products ordered: \", percentage_ordered, \"%\")\n",
    "    \n",
    "order_statistics = {'total products ordered': total_products_ordered, 'percentage of products ordered': round(percentage_ordered,2)}\n",
    "\n",
    "def calculate_order_statistics (customer_orders, products):\n",
    "    \n",
    "    return order_statistics\n",
    "    \n",
    "calculate_order_statistics(customer_orders, products)"
   ]
  },
  {
   "cell_type": "code",
   "execution_count": 8,
   "id": "8fdbb36c-2f77-4d83-a4fb-71b82f88815d",
   "metadata": {},
   "outputs": [
    {
     "name": "stdout",
     "output_type": "stream",
     "text": [
      "Order statistics:  total products ordered:  2   percentage of products ordered:  25.0 %\n"
     ]
    }
   ],
   "source": [
    "def print_order_statistics(order_statistics):\n",
    "    \n",
    "    print(\"Order statistics: \", \"total products ordered: \", total_products_ordered,\" \", \"percentage of products ordered: \", round(percentage_ordered,2), \"%\")\n",
    "             \n",
    "print_order_statistics(order_statistics)    \n",
    "    \n"
   ]
  },
  {
   "cell_type": "code",
   "execution_count": 18,
   "id": "3f837cd2-2227-45d8-9aad-3883ed169260",
   "metadata": {},
   "outputs": [
    {
     "name": "stdout",
     "output_type": "stream",
     "text": [
      "Inventory before customer purchase:  {'t-shirt': 2, 'mug': 0, 'hat': 2, 'book': 0, 'keychain': 2}\n"
     ]
    },
    {
     "ename": "NameError",
     "evalue": "name 'udpated_inventory' is not defined",
     "output_type": "error",
     "traceback": [
      "\u001b[0;31m---------------------------------------------------------------------------\u001b[0m",
      "\u001b[0;31mNameError\u001b[0m                                 Traceback (most recent call last)",
      "Cell \u001b[0;32mIn[18], line 9\u001b[0m\n\u001b[1;32m      5\u001b[0m     updated_inventory \u001b[38;5;241m=\u001b[39m update_inventory(customer_orders, inventory)\n\u001b[1;32m      7\u001b[0m     \u001b[38;5;28mprint\u001b[39m(\u001b[38;5;124m\"\u001b[39m\u001b[38;5;124minventory after customer purchase: \u001b[39m\u001b[38;5;124m\"\u001b[39m, udpated_inventory)\n\u001b[0;32m----> 9\u001b[0m print_updated_inventory(inventory)\n",
      "Cell \u001b[0;32mIn[18], line 7\u001b[0m, in \u001b[0;36mprint_updated_inventory\u001b[0;34m(inventory)\u001b[0m\n\u001b[1;32m      3\u001b[0m \u001b[38;5;28mprint\u001b[39m(\u001b[38;5;124m\"\u001b[39m\u001b[38;5;124mInventory before customer purchase: \u001b[39m\u001b[38;5;124m\"\u001b[39m, inventory)\n\u001b[1;32m      5\u001b[0m updated_inventory \u001b[38;5;241m=\u001b[39m update_inventory(customer_orders, inventory)\n\u001b[0;32m----> 7\u001b[0m \u001b[38;5;28mprint\u001b[39m(\u001b[38;5;124m\"\u001b[39m\u001b[38;5;124minventory after customer purchase: \u001b[39m\u001b[38;5;124m\"\u001b[39m, udpated_inventory)\n",
      "\u001b[0;31mNameError\u001b[0m: name 'udpated_inventory' is not defined"
     ]
    }
   ],
   "source": [
    "def print_updated_inventory(inventory):\n",
    "    \n",
    "    print(\"Inventory before customer purchase: \", inventory)\n",
    "\n",
    "    updated_inventory = update_inventory(customer_orders, inventory)\n",
    "\n",
    "    print(\"inventory after customer purchase: \", udpated_inventory)\n",
    "\n",
    "print_updated_inventory(inventory)"
   ]
  },
  {
   "cell_type": "code",
   "execution_count": 10,
   "id": "dbba3e8f-7bfd-425a-9563-e86278467166",
   "metadata": {},
   "outputs": [
    {
     "ename": "KeyboardInterrupt",
     "evalue": "Interrupted by user",
     "output_type": "error",
     "traceback": [
      "\u001b[0;31m---------------------------------------------------------------------------\u001b[0m",
      "\u001b[0;31mKeyboardInterrupt\u001b[0m                         Traceback (most recent call last)",
      "Cell \u001b[0;32mIn[10], line 1\u001b[0m\n\u001b[0;32m----> 1\u001b[0m initialize_inventory(products)\n",
      "Cell \u001b[0;32mIn[3], line 5\u001b[0m, in \u001b[0;36minitialize_inventory\u001b[0;34m(products)\u001b[0m\n\u001b[1;32m      3\u001b[0m \u001b[38;5;28;01mdef\u001b[39;00m \u001b[38;5;21minitialize_inventory\u001b[39m(products):\n\u001b[1;32m      4\u001b[0m     \u001b[38;5;28;01mfor\u001b[39;00m product \u001b[38;5;129;01min\u001b[39;00m products:\n\u001b[0;32m----> 5\u001b[0m         quantity \u001b[38;5;241m=\u001b[39m \u001b[38;5;28mint\u001b[39m(\u001b[38;5;28minput\u001b[39m(\u001b[38;5;124mf\u001b[39m\u001b[38;5;124m\"\u001b[39m\u001b[38;5;124mplease input the quantity of \u001b[39m\u001b[38;5;132;01m{\u001b[39;00mproduct\u001b[38;5;132;01m}\u001b[39;00m\u001b[38;5;124m available: \u001b[39m\u001b[38;5;124m\"\u001b[39m))\n\u001b[1;32m      6\u001b[0m         inventory [product] \u001b[38;5;241m=\u001b[39m quantity\n\u001b[1;32m      7\u001b[0m     \u001b[38;5;28;01mreturn\u001b[39;00m(inventory)\n",
      "File \u001b[0;32m/opt/anaconda3/lib/python3.12/site-packages/ipykernel/kernelbase.py:1262\u001b[0m, in \u001b[0;36mKernel.raw_input\u001b[0;34m(self, prompt)\u001b[0m\n\u001b[1;32m   1260\u001b[0m     msg \u001b[38;5;241m=\u001b[39m \u001b[38;5;124m\"\u001b[39m\u001b[38;5;124mraw_input was called, but this frontend does not support input requests.\u001b[39m\u001b[38;5;124m\"\u001b[39m\n\u001b[1;32m   1261\u001b[0m     \u001b[38;5;28;01mraise\u001b[39;00m StdinNotImplementedError(msg)\n\u001b[0;32m-> 1262\u001b[0m \u001b[38;5;28;01mreturn\u001b[39;00m \u001b[38;5;28mself\u001b[39m\u001b[38;5;241m.\u001b[39m_input_request(\n\u001b[1;32m   1263\u001b[0m     \u001b[38;5;28mstr\u001b[39m(prompt),\n\u001b[1;32m   1264\u001b[0m     \u001b[38;5;28mself\u001b[39m\u001b[38;5;241m.\u001b[39m_parent_ident[\u001b[38;5;124m\"\u001b[39m\u001b[38;5;124mshell\u001b[39m\u001b[38;5;124m\"\u001b[39m],\n\u001b[1;32m   1265\u001b[0m     \u001b[38;5;28mself\u001b[39m\u001b[38;5;241m.\u001b[39mget_parent(\u001b[38;5;124m\"\u001b[39m\u001b[38;5;124mshell\u001b[39m\u001b[38;5;124m\"\u001b[39m),\n\u001b[1;32m   1266\u001b[0m     password\u001b[38;5;241m=\u001b[39m\u001b[38;5;28;01mFalse\u001b[39;00m,\n\u001b[1;32m   1267\u001b[0m )\n",
      "File \u001b[0;32m/opt/anaconda3/lib/python3.12/site-packages/ipykernel/kernelbase.py:1305\u001b[0m, in \u001b[0;36mKernel._input_request\u001b[0;34m(self, prompt, ident, parent, password)\u001b[0m\n\u001b[1;32m   1302\u001b[0m \u001b[38;5;28;01mexcept\u001b[39;00m \u001b[38;5;167;01mKeyboardInterrupt\u001b[39;00m:\n\u001b[1;32m   1303\u001b[0m     \u001b[38;5;66;03m# re-raise KeyboardInterrupt, to truncate traceback\u001b[39;00m\n\u001b[1;32m   1304\u001b[0m     msg \u001b[38;5;241m=\u001b[39m \u001b[38;5;124m\"\u001b[39m\u001b[38;5;124mInterrupted by user\u001b[39m\u001b[38;5;124m\"\u001b[39m\n\u001b[0;32m-> 1305\u001b[0m     \u001b[38;5;28;01mraise\u001b[39;00m \u001b[38;5;167;01mKeyboardInterrupt\u001b[39;00m(msg) \u001b[38;5;28;01mfrom\u001b[39;00m \u001b[38;5;28;01mNone\u001b[39;00m\n\u001b[1;32m   1306\u001b[0m \u001b[38;5;28;01mexcept\u001b[39;00m \u001b[38;5;167;01mException\u001b[39;00m:\n\u001b[1;32m   1307\u001b[0m     \u001b[38;5;28mself\u001b[39m\u001b[38;5;241m.\u001b[39mlog\u001b[38;5;241m.\u001b[39mwarning(\u001b[38;5;124m\"\u001b[39m\u001b[38;5;124mInvalid Message:\u001b[39m\u001b[38;5;124m\"\u001b[39m, exc_info\u001b[38;5;241m=\u001b[39m\u001b[38;5;28;01mTrue\u001b[39;00m)\n",
      "\u001b[0;31mKeyboardInterrupt\u001b[0m: Interrupted by user"
     ]
    }
   ],
   "source": [
    "initialize_inventory(products)"
   ]
  },
  {
   "cell_type": "code",
   "execution_count": null,
   "id": "189c668a-8694-4890-9c4e-cd60728b6f5e",
   "metadata": {},
   "outputs": [],
   "source": [
    "get_customer_orders()"
   ]
  },
  {
   "cell_type": "code",
   "execution_count": null,
   "id": "724d02f5-b203-4ec2-bf3b-e9a670880d82",
   "metadata": {},
   "outputs": [],
   "source": [
    "update_inventory(customer_orders, inventory)"
   ]
  },
  {
   "cell_type": "code",
   "execution_count": null,
   "id": "e40afe78-b447-4206-a7d2-57a3facbb551",
   "metadata": {},
   "outputs": [],
   "source": [
    "calculate_order_statistics(customer_orders, products)"
   ]
  },
  {
   "cell_type": "code",
   "execution_count": null,
   "id": "b0480014-75ef-4c7f-a4ee-2857b463b5dd",
   "metadata": {},
   "outputs": [],
   "source": [
    "print_order_statistics(order_statistics)"
   ]
  },
  {
   "cell_type": "code",
   "execution_count": null,
   "id": "5497f2fd-4390-4564-a761-9580c984b5b1",
   "metadata": {},
   "outputs": [],
   "source": [
    "print_updated_inventory(inventory)"
   ]
  },
  {
   "cell_type": "code",
   "execution_count": null,
   "id": "1e5c2fc5-1c69-4bd5-8577-87555d6f8ac6",
   "metadata": {},
   "outputs": [],
   "source": []
  }
 ],
 "metadata": {
  "kernelspec": {
   "display_name": "Python 3 (ipykernel)",
   "language": "python",
   "name": "python3"
  },
  "language_info": {
   "codemirror_mode": {
    "name": "ipython",
    "version": 3
   },
   "file_extension": ".py",
   "mimetype": "text/x-python",
   "name": "python",
   "nbconvert_exporter": "python",
   "pygments_lexer": "ipython3",
   "version": "3.12.4"
  }
 },
 "nbformat": 4,
 "nbformat_minor": 5
}
